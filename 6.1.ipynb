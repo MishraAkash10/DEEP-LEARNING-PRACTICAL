{
 "cells": [
  {
   "cell_type": "code",
   "execution_count": null,
   "id": "cf87a28d-ca36-4c3d-bc6c-2d9555555f0c",
   "metadata": {},
   "outputs": [],
   "source": [
    "NAME: Akash Mishra\n",
    "ROLL NO : 36\n",
    "CLASS : BE IT (B2)\n",
    "TITLE : Object detection using Transfer Learning of CNN architectures\n",
    "            a. Load in a pre-trained CNN model trained on a large dataset\n",
    "            b. Freeze parameters (weights) in model’s lower convolutional layers\n",
    "            c. Add custom classifier with several layers of trainable parameters to model\n",
    "            d. Train classifier layers on training data available for task\n",
    "            e. Fine-tune hyper parameters and unfreeze more layers as needed"
   ]
  },
  {
   "cell_type": "code",
   "execution_count": 3,
   "id": "d98c7f8b-f0d1-439f-9988-83f592a48d8f",
   "metadata": {},
   "outputs": [],
   "source": [
    "import tensorflow as tf\n",
    "from tensorflow import keras\n",
    "from tensorflow.keras.applications import VGG16\n",
    "from tensorflow.keras.models import Model\n",
    "from tensorflow.keras.layers import Dense, Flatten\n",
    "from tensorflow.keras.optimizers import Adam\n",
    "from tensorflow.keras.preprocessing.image import ImageDataGenerator\n",
    "import numpy as np"
   ]
  },
  {
   "cell_type": "code",
   "execution_count": 7,
   "id": "54dd8c6e-8ea3-49bb-8517-57bbf1bbd858",
   "metadata": {},
   "outputs": [],
   "source": [
    "train_dir = r\"C:\\Users\\AKASH\\BE (DEEP LEARNING)\\ASSIGNMENT 6\\cifar-10-img\\train\"\n",
    "test_dir  = r\"C:\\Users\\AKASH\\BE (DEEP LEARNING)\\ASSIGNMENT 6\\cifar-10-img\\test\"\n"
   ]
  },
  {
   "cell_type": "code",
   "execution_count": 11,
   "id": "66d6c56d-af2c-4f93-9b15-eddc0d24e908",
   "metadata": {},
   "outputs": [
    {
     "data": {
      "text/plain": [
       "'C:\\\\Users\\\\AKASH\\\\BE (DEEP LEARNING)\\\\ASSIGNMENT 6\\\\cifar-10-img\\\\train'"
      ]
     },
     "execution_count": 11,
     "metadata": {},
     "output_type": "execute_result"
    }
   ],
   "source": [
    "train_dir"
   ]
  },
  {
   "cell_type": "code",
   "execution_count": 13,
   "id": "621c458c-b9cc-4d51-96cb-942dd1878009",
   "metadata": {},
   "outputs": [
    {
     "data": {
      "text/plain": [
       "'C:\\\\Users\\\\AKASH\\\\BE (DEEP LEARNING)\\\\ASSIGNMENT 6\\\\cifar-10-img\\\\test'"
      ]
     },
     "execution_count": 13,
     "metadata": {},
     "output_type": "execute_result"
    }
   ],
   "source": [
    "test_dir"
   ]
  },
  {
   "cell_type": "code",
   "execution_count": 17,
   "id": "9428e2ff-aa02-4fc6-a714-d4807284ab66",
   "metadata": {},
   "outputs": [],
   "source": [
    "train_datagen = ImageDataGenerator(\n",
    " rescale=1.0 / 255,\n",
    " )\n",
    "test_datagen = ImageDataGenerator(\n",
    " rescale=1.0 / 255,\n",
    ")\n"
   ]
  },
  {
   "cell_type": "code",
   "execution_count": 21,
   "id": "39ead7f8-0151-4b7e-bac6-391de336a436",
   "metadata": {},
   "outputs": [
    {
     "name": "stdout",
     "output_type": "stream",
     "text": [
      "Found 40079 images belonging to 10 classes.\n",
      "Found 9921 images belonging to 10 classes.\n"
     ]
    }
   ],
   "source": [
    "train_batch_size = 5000\n",
    "train_generator = train_datagen.flow_from_directory(\n",
    "    train_dir,\n",
    "    target_size=(32, 32),\n",
    "    batch_size=train_batch_size,\n",
    "    class_mode='categorical'\n",
    " )\n",
    " \n",
    "test_batch_size = 1000\n",
    "test_generator = test_datagen.flow_from_directory(\n",
    "    test_dir,\n",
    "    target_size=(32, 32),\n",
    "    batch_size=test_batch_size,\n",
    "    class_mode='categorical'\n",
    " )"
   ]
  },
  {
   "cell_type": "code",
   "execution_count": 26,
   "id": "3cb2335e-b177-412b-aad7-10b5af992d28",
   "metadata": {},
   "outputs": [
    {
     "name": "stdout",
     "output_type": "stream",
     "text": [
      "5000\n",
      "1000\n"
     ]
    }
   ],
   "source": [
    " x_train, y_train =  train_generator[0]\n",
    " x_test, y_test = test_generator[0]\n",
    " \n",
    "print(len(x_train))\n",
    " print(len(x_test))"
   ]
  },
  {
   "cell_type": "code",
   "execution_count": 38,
   "id": "b230f59b-a488-477c-b672-49d9e24199ae",
   "metadata": {},
   "outputs": [
    {
     "name": "stdout",
     "output_type": "stream",
     "text": [
      "Downloading data from https://storage.googleapis.com/tensorflow/keras-applications/vgg16/vgg16_weights_tf_dim_ordering_tf_kernels_notop.h5\n",
      "\u001b[1m58889256/58889256\u001b[0m \u001b[32m━━━━━━━━━━━━━━━━━━━━\u001b[0m\u001b[37m\u001b[0m \u001b[1m21s\u001b[0m 0us/step\n"
     ]
    }
   ],
   "source": [
    "from tensorflow.keras.applications import VGG16\n",
    "\n",
    "base_model = VGG16(weights='imagenet', include_top=False, input_shape=(32, 32, 3))\n"
   ]
  },
  {
   "cell_type": "code",
   "execution_count": 40,
   "id": "26465bfd-5586-4981-964e-c9d41e164c6d",
   "metadata": {},
   "outputs": [],
   "source": [
    " for layer in base_model.layers:\n",
    "   layer.trainable = False"
   ]
  },
  {
   "cell_type": "code",
   "execution_count": 42,
   "id": "c95ebfa2-d2de-48f2-8747-0c709d995277",
   "metadata": {},
   "outputs": [],
   "source": [
    " x = Flatten()(base_model.output)\n",
    " x = Dense(256, activation='relu')(x)\n",
    " x = tf.keras.layers.Dropout(0.3)(x)\n",
    " x = Dense(256, activation='relu')(x)\n",
    " x = tf.keras.layers.Dropout(0.3)(x)\n",
    " predictions = Dense(10, activation='softmax')(x)\n",
    " \n",
    "# Create the model\n",
    " model = Model(inputs=base_model.input, outputs=predictions)\n",
    " # Compile the model\n",
    " model.compile(optimizer=\"adam\", loss='categorical_crossentropy', metrics=['accuracy'])\n"
   ]
  },
  {
   "cell_type": "code",
   "execution_count": 44,
   "id": "ad643b80-8719-4f8c-94e6-7c590d5a4fca",
   "metadata": {},
   "outputs": [
    {
     "name": "stdout",
     "output_type": "stream",
     "text": [
      "Epoch 1/10\n",
      "\u001b[1m79/79\u001b[0m \u001b[32m━━━━━━━━━━━━━━━━━━━━\u001b[0m\u001b[37m\u001b[0m \u001b[1m81s\u001b[0m 960ms/step - accuracy: 0.3028 - loss: 1.9508 - val_accuracy: 0.4360 - val_loss: 1.6006\n",
      "Epoch 2/10\n",
      "\u001b[1m79/79\u001b[0m \u001b[32m━━━━━━━━━━━━━━━━━━━━\u001b[0m\u001b[37m\u001b[0m \u001b[1m89s\u001b[0m 1s/step - accuracy: 0.4380 - loss: 1.5776 - val_accuracy: 0.4740 - val_loss: 1.4673\n",
      "Epoch 3/10\n",
      "\u001b[1m79/79\u001b[0m \u001b[32m━━━━━━━━━━━━━━━━━━━━\u001b[0m\u001b[37m\u001b[0m \u001b[1m68s\u001b[0m 855ms/step - accuracy: 0.4870 - loss: 1.4375 - val_accuracy: 0.4920 - val_loss: 1.4053\n",
      "Epoch 4/10\n",
      "\u001b[1m79/79\u001b[0m \u001b[32m━━━━━━━━━━━━━━━━━━━━\u001b[0m\u001b[37m\u001b[0m \u001b[1m88s\u001b[0m 936ms/step - accuracy: 0.5314 - loss: 1.3402 - val_accuracy: 0.5240 - val_loss: 1.3568\n",
      "Epoch 5/10\n",
      "\u001b[1m79/79\u001b[0m \u001b[32m━━━━━━━━━━━━━━━━━━━━\u001b[0m\u001b[37m\u001b[0m \u001b[1m83s\u001b[0m 1s/step - accuracy: 0.5464 - loss: 1.2916 - val_accuracy: 0.5020 - val_loss: 1.3609\n",
      "Epoch 6/10\n",
      "\u001b[1m79/79\u001b[0m \u001b[32m━━━━━━━━━━━━━━━━━━━━\u001b[0m\u001b[37m\u001b[0m \u001b[1m134s\u001b[0m 951ms/step - accuracy: 0.5590 - loss: 1.2308 - val_accuracy: 0.5320 - val_loss: 1.3235\n",
      "Epoch 7/10\n",
      "\u001b[1m79/79\u001b[0m \u001b[32m━━━━━━━━━━━━━━━━━━━━\u001b[0m\u001b[37m\u001b[0m \u001b[1m74s\u001b[0m 940ms/step - accuracy: 0.5812 - loss: 1.1742 - val_accuracy: 0.5200 - val_loss: 1.3488\n",
      "Epoch 8/10\n",
      "\u001b[1m79/79\u001b[0m \u001b[32m━━━━━━━━━━━━━━━━━━━━\u001b[0m\u001b[37m\u001b[0m \u001b[1m83s\u001b[0m 950ms/step - accuracy: 0.6010 - loss: 1.1412 - val_accuracy: 0.5310 - val_loss: 1.3486\n",
      "Epoch 9/10\n",
      "\u001b[1m79/79\u001b[0m \u001b[32m━━━━━━━━━━━━━━━━━━━━\u001b[0m\u001b[37m\u001b[0m \u001b[1m74s\u001b[0m 851ms/step - accuracy: 0.6118 - loss: 1.0985 - val_accuracy: 0.5330 - val_loss: 1.3596\n",
      "Epoch 10/10\n",
      "\u001b[1m79/79\u001b[0m \u001b[32m━━━━━━━━━━━━━━━━━━━━\u001b[0m\u001b[37m\u001b[0m \u001b[1m75s\u001b[0m 945ms/step - accuracy: 0.6284 - loss: 1.0386 - val_accuracy: 0.5240 - val_loss: 1.3379\n"
     ]
    },
    {
     "data": {
      "text/plain": [
       "<keras.src.callbacks.history.History at 0x1944845f9e0>"
      ]
     },
     "execution_count": 44,
     "metadata": {},
     "output_type": "execute_result"
    }
   ],
   "source": [
    "# Train the model\n",
    "model.fit(x_train, y_train, batch_size=64, epochs=10, validation_data=(x_test, y_test))"
   ]
  },
  {
   "cell_type": "code",
   "execution_count": 56,
   "id": "a9c89451-e870-42c1-8065-b8aaaf128a6c",
   "metadata": {},
   "outputs": [
    {
     "name": "stdout",
     "output_type": "stream",
     "text": [
      "Epoch 1/10\n",
      "\u001b[1m79/79\u001b[0m \u001b[32m━━━━━━━━━━━━━━━━━━━━\u001b[0m\u001b[37m\u001b[0m \u001b[1m140s\u001b[0m 2s/step - accuracy: 0.2160 - loss: 2.0419 - val_accuracy: 0.3110 - val_loss: 1.5936\n",
      "Epoch 2/10\n",
      "\u001b[1m79/79\u001b[0m \u001b[32m━━━━━━━━━━━━━━━━━━━━\u001b[0m\u001b[37m\u001b[0m \u001b[1m136s\u001b[0m 2s/step - accuracy: 0.4562 - loss: 1.4779 - val_accuracy: 0.5500 - val_loss: 1.2519\n",
      "Epoch 3/10\n",
      "\u001b[1m79/79\u001b[0m \u001b[32m━━━━━━━━━━━━━━━━━━━━\u001b[0m\u001b[37m\u001b[0m \u001b[1m142s\u001b[0m 2s/step - accuracy: 0.5964 - loss: 1.1678 - val_accuracy: 0.5820 - val_loss: 1.1965\n",
      "Epoch 4/10\n",
      "\u001b[1m79/79\u001b[0m \u001b[32m━━━━━━━━━━━━━━━━━━━━\u001b[0m\u001b[37m\u001b[0m \u001b[1m119s\u001b[0m 2s/step - accuracy: 0.6786 - loss: 0.9640 - val_accuracy: 0.6430 - val_loss: 1.0757\n",
      "Epoch 5/10\n",
      "\u001b[1m79/79\u001b[0m \u001b[32m━━━━━━━━━━━━━━━━━━━━\u001b[0m\u001b[37m\u001b[0m \u001b[1m126s\u001b[0m 2s/step - accuracy: 0.7294 - loss: 0.8386 - val_accuracy: 0.6360 - val_loss: 1.1603\n",
      "Epoch 6/10\n",
      "\u001b[1m79/79\u001b[0m \u001b[32m━━━━━━━━━━━━━━━━━━━━\u001b[0m\u001b[37m\u001b[0m \u001b[1m139s\u001b[0m 2s/step - accuracy: 0.7804 - loss: 0.6850 - val_accuracy: 0.6030 - val_loss: 1.2809\n",
      "Epoch 7/10\n",
      "\u001b[1m79/79\u001b[0m \u001b[32m━━━━━━━━━━━━━━━━━━━━\u001b[0m\u001b[37m\u001b[0m \u001b[1m145s\u001b[0m 2s/step - accuracy: 0.7988 - loss: 0.6030 - val_accuracy: 0.6470 - val_loss: 1.1673\n",
      "Epoch 8/10\n",
      "\u001b[1m79/79\u001b[0m \u001b[32m━━━━━━━━━━━━━━━━━━━━\u001b[0m\u001b[37m\u001b[0m \u001b[1m127s\u001b[0m 2s/step - accuracy: 0.8572 - loss: 0.4480 - val_accuracy: 0.6300 - val_loss: 1.4536\n",
      "Epoch 9/10\n",
      "\u001b[1m79/79\u001b[0m \u001b[32m━━━━━━━━━━━━━━━━━━━━\u001b[0m\u001b[37m\u001b[0m \u001b[1m151s\u001b[0m 2s/step - accuracy: 0.8656 - loss: 0.4296 - val_accuracy: 0.6110 - val_loss: 1.4920\n",
      "Epoch 10/10\n",
      "\u001b[1m79/79\u001b[0m \u001b[32m━━━━━━━━━━━━━━━━━━━━\u001b[0m\u001b[37m\u001b[0m \u001b[1m131s\u001b[0m 2s/step - accuracy: 0.8604 - loss: 0.4321 - val_accuracy: 0.6280 - val_loss: 1.3835\n"
     ]
    },
    {
     "data": {
      "text/plain": [
       "<keras.src.callbacks.history.History at 0x194634d7470>"
      ]
     },
     "execution_count": 56,
     "metadata": {},
     "output_type": "execute_result"
    }
   ],
   "source": [
    "base_model = VGG16(weights='imagenet', include_top=False, input_shape=(32, 32, 3))\n",
    " # freeze all layers first\n",
    "for layer in base_model.layers:\n",
    " layer.trainable = False\n",
    " # unfreeze last 4 layers of base model\n",
    "for layer in base_model.layers[len(base_model.layers) - 4:]:\n",
    " layer.trainable = True\n",
    " # fine-tuning hyper parameters\n",
    "x = Flatten()(base_model.output)\n",
    "x = Dense(256, activation='relu')(x)\n",
    "x = tf.keras.layers.Dropout(0.3)(x)\n",
    "x = Dense(512, activation='relu')(x)\n",
    "x = tf.keras.layers.Dropout(0.3)(x)\n",
    "predictions = Dense(10, activation='softmax')(x)\n",
    "\n",
    "# Create the model\n",
    "model = Model(inputs=base_model.input, outputs=predictions)\n",
    " # Compile the model\n",
    "model.compile(optimizer=Adam(learning_rate=0.001), loss='categorical_crossentropy', metrics=['accuracy'])\n",
    " # training fine tuned model\n",
    "model.fit(x_train, y_train, batch_size=64, epochs=10, validation_data=(x_test, y_test))"
   ]
  },
  {
   "cell_type": "code",
   "execution_count": 58,
   "id": "c8d5bc00-a2ac-42e0-a960-0740fcb66b07",
   "metadata": {},
   "outputs": [
    {
     "name": "stdout",
     "output_type": "stream",
     "text": [
      "\u001b[1m32/32\u001b[0m \u001b[32m━━━━━━━━━━━━━━━━━━━━\u001b[0m\u001b[37m\u001b[0m \u001b[1m16s\u001b[0m 470ms/step\n"
     ]
    }
   ],
   "source": [
    " import matplotlib.pyplot as plt\n",
    " predicted_value = model.predict(x_test)"
   ]
  },
  {
   "cell_type": "code",
   "execution_count": 60,
   "id": "3ba25c38-d2bb-4156-87b8-fc006fc3c34a",
   "metadata": {},
   "outputs": [],
   "source": [
    "labels = list(test_generator.class_indices.keys())"
   ]
  },
  {
   "cell_type": "code",
   "execution_count": 64,
   "id": "6dc8b766-2a97-4500-a09a-5e1453c190be",
   "metadata": {},
   "outputs": [
    {
     "name": "stdout",
     "output_type": "stream",
     "text": [
      "Preditcted:  deer\n",
      "Actual:  deer\n"
     ]
    },
    {
     "data": {
      "image/png": "[encoded data removed]",
      "text/plain": [
       "<Figure size 640x480 with 1 Axes>"
      ]
     },
     "metadata": {},
     "output_type": "display_data"
    }
   ],
   "source": [
    "n=945\n",
    "plt.imshow(x_test[n])\n",
    "print(\"Preditcted: \",labels[np.argmax(predicted_value[n])])\n",
    "print(\"Actual: \", labels[np.argmax(y_test[n])])"
   ]
  },
  {
   "cell_type": "code",
   "execution_count": 68,
   "id": "680111cf-b68e-4df2-a9b7-60a6319faccb",
   "metadata": {},
   "outputs": [
    {
     "name": "stdout",
     "output_type": "stream",
     "text": [
      "Preditcted:  horse\n",
      "Actual:  horse\n"
     ]
    },
    {
     "data": {
      "image/png": "[encoded data removed]",
      "text/plain": [
       "<Figure size 640x480 with 1 Axes>"
      ]
     },
     "metadata": {},
     "output_type": "display_data"
    }
   ],
   "source": [
    "n=9\n",
    "plt.imshow(x_test[n])\n",
    "print(\"Preditcted: \",labels[np.argmax(predicted_value[n])])\n",
    "print(\"Actual: \", labels[np.argmax(y_test[n])])"
   ]
  },
  {
   "cell_type": "code",
   "execution_count": null,
   "id": "d8f941dc-b7ba-4f6c-bd75-8b51590e567e",
   "metadata": {},
   "outputs": [],
   "source": []
  }
 ],
 "metadata": {
  "kernelspec": {
   "display_name": "Python [conda env:base] *",
   "language": "python",
   "name": "conda-base-py"
  },
  "language_info": {
   "codemirror_mode": {
    "name": "ipython",
    "version": 3
   },
   "file_extension": ".py",
   "mimetype": "text/x-python",
   "name": "python",
   "nbconvert_exporter": "python",
   "pygments_lexer": "ipython3",
   "version": "3.12.7"
  }
 },
 "nbformat": 4,
 "nbformat_minor": 5
}
